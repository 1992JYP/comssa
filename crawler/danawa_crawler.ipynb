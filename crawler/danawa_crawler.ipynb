{
 "cells": [
  {
   "cell_type": "code",
   "execution_count": 1,
   "id": "5887472e",
   "metadata": {},
   "outputs": [],
   "source": [
    "from selenium import webdriver as wd\n",
    "import time\n",
    "from bs4 import BeautifulSoup as bs\n",
    "import pymysql as mysql"
   ]
  },
  {
   "cell_type": "code",
   "execution_count": 62,
   "id": "97a8efae",
   "metadata": {},
   "outputs": [],
   "source": [
    "### url define\n",
    "#CPU 594\n",
    "#메인보드 595\n",
    "#메모리 596\n",
    "#그래픽카드 597\n",
    "#SSD 604\n",
    "#HDD 598\n",
    "#케이스 600\n",
    "#파워 601\n",
    "### "
   ]
  },
  {
   "cell_type": "code",
   "execution_count": 87,
   "id": "ef9d2343",
   "metadata": {},
   "outputs": [],
   "source": [
    "conn = mysql.connect(host='localhost',\n",
    "                       user='root',\n",
    "                       password='parkingC103!',\n",
    "                       db='comssa',\n",
    "                       charset='utf8')\n",
    "\n",
    "\n"
   ]
  },
  {
   "cell_type": "code",
   "execution_count": 147,
   "id": "38f4dd18",
   "metadata": {},
   "outputs": [],
   "source": [
    "\n",
    "def crawCard(urlNum, pageNum, parts, driver):\n",
    "    baseUrl = 'https://shop.danawa.com/main/?controller=goods&methods=index&productRegisterAreaGroupSeq=78&serviceSectionSeq=%d#%d'\n",
    "    crawUrl = baseUrl%(urlNum,pageNum)\n",
    "    driver.get(crawUrl)\n",
    "    time.sleep(1)\n",
    "    html = driver.page_source\n",
    "    soup = bs(html, 'html.parser')\n",
    "    crawlist1 = '#productListContainer > div > ul:nth-of-type(1) '\n",
    "    title1 = crawlist1 + 'a.goodsLink'\n",
    "    price1 = crawlist1 + 'div.price_info span.num'\n",
    "    spec1 = crawlist1 + '> li:nth-child(%d) div.main_info > dl > dd > ul > li'\n",
    "    titles1 = soup.select(title1)\n",
    "    prices1 = soup.select(price1)\n",
    "\n",
    "\n",
    "    crawlist2 = '#productListContainer > div > ul:nth-of-type(2) '\n",
    "    title2 = crawlist2 + 'a.goodsLink'\n",
    "    price2 = crawlist2 + 'div.price_info span.num'\n",
    "    spec2 = crawlist2+'> li:nth-child(%d) div.main_info > dl > dd > ul > li'\n",
    "    titles2 = soup.select(title2)\n",
    "    prices2 = soup.select(price2)\n",
    "    \n",
    "    insertTitleList=[]\n",
    "    insertSeqList=[]\n",
    "    insertPriceList=[]\n",
    "    insertSpecList=[]\n",
    "    \n",
    "    for n in range(len(titles1)):\n",
    "        insertTitleList.append(titles1[n].text.strip())\n",
    "        insertPriceList.append(prices1[n].text.strip())\n",
    "        insertSeqList.append(titles1[n]['productseq'])\n",
    "#         print(titles1[n].text.strip() +'        ' +prices1[n].text.strip())\n",
    "#         print()\n",
    "#         print(titles1[n]['productseq'])\n",
    "        spec1s = spec1%(n+1)\n",
    "        specs = soup.select(spec1s)\n",
    "        speclist1=[]\n",
    "        for m in specs:\n",
    "            speclist1.append(m.text.strip())\n",
    "        while len(speclist1)<20:\n",
    "            speclist1.append('')\n",
    "        speclistText=\"','\".join(speclist1)\n",
    "        insertSpecList.append(speclistText)\n",
    "    for n in range(len(titles2)):\n",
    "        insertTitleList.append(titles2[n].text.strip())\n",
    "        insertPriceList.append(prices2[n].text.strip())\n",
    "        insertSeqList.append(titles2[n]['productseq'])\n",
    "        spec2s = spec2%(n+1)\n",
    "        specs = soup.select(spec2s)\n",
    "        speclist2=[]\n",
    "        for m in specs:\n",
    "            speclist2.append(m.text.strip())\n",
    "        while len(speclist2)<20:\n",
    "            speclist2.append('')\n",
    "        speclistText=\"','\".join(speclist2)\n",
    "        print(len(speclist2))\n",
    "        insertSpecList.append(speclistText)\n",
    "        \n",
    "    return insertTitleList,insertSpecList,insertPriceList,insertSeqList"
   ]
  },
  {
   "cell_type": "code",
   "execution_count": 160,
   "id": "93587bbe",
   "metadata": {
    "collapsed": true
   },
   "outputs": [
    {
     "name": "stderr",
     "output_type": "stream",
     "text": [
      "C:\\Users\\multicampus\\AppData\\Local\\Temp\\ipykernel_16776\\3043758442.py:1: DeprecationWarning: executable_path has been deprecated, please pass in a Service object\n",
      "  driver = wd.Chrome('chromedriver.exe')\n"
     ]
    },
    {
     "name": "stdout",
     "output_type": "stream",
     "text": [
      "29\n",
      "32\n",
      "29\n",
      "33\n",
      "21\n",
      "29\n",
      "29\n",
      "31\n",
      "34\n",
      "31\n",
      "21\n",
      "31\n",
      "34\n",
      "21\n",
      "33\n",
      "29\n",
      "34\n",
      "31\n",
      "29\n",
      "31\n",
      "31\n",
      "34\n",
      "내장형SSD','M.2 (2280)','PCIe3.0x4 (32GT/s)','NVMe 1.3','TLC(토글)','3D낸드','컨트롤러:KIOXIA','[성능]','순차읽기:1,700MB/s','순차쓰기:1,600MB/s','읽기IOPS:최대 350K','쓰기IOPS:최대 400K','[지원기능]','TRIM','GC','SLC캐싱','S.M.A.R.T','ECC','전용 S/W','[환경특성]','MTBF:150만시간','TBW:200TB','A/S기간:5년','방열판 미포함','두께:2.23mm','6.9g\n"
     ]
    }
   ],
   "source": [
    "driver = wd.Chrome('chromedriver.exe')\n",
    "\n",
    "titles,specs,prices,seqs=crawCard(604,1,'memory',driver)\n",
    "print(specs[0])\n",
    "#594 cpu under 20\n",
    "#595 mainboard max 58\n",
    "#596 memory under 20\n",
    "#597 gpu max 21\n",
    "#598 hdd max 21\n",
    "#600 case max 23\n",
    "#601 power max 27\n",
    "#604 ssd max 34"
   ]
  },
  {
   "cell_type": "code",
   "execution_count": 149,
   "id": "5bedd593",
   "metadata": {},
   "outputs": [
    {
     "name": "stdout",
     "output_type": "stream",
     "text": [
      "32\n",
      "32\n",
      "32\n",
      "32\n",
      "내장형SSD','M.2 (2280)','PCIe3.0x4 (32GT/s)','NVMe 1.3','TLC(토글)','3D낸드','컨트롤러:KIOXIA','[성능]','순차읽기:1,700MB/s','순차쓰기:1,600MB/s','읽기IOPS:최대 350K','쓰기IOPS:최대 400K','[지원기능]','TRIM','GC','SLC캐싱','S.M.A.R.T','ECC','전용 S/W','[환경특성]','MTBF:150만시간','TBW:200TB','A/S기간:5년','방열판 미포함','두께:2.23mm','6.9g\n"
     ]
    }
   ],
   "source": [
    "print(len(titles))\n",
    "print(len(specs))\n",
    "print(len(seqs))\n",
    "print(len(prices))\n",
    "print(specs[0])"
   ]
  },
  {
   "cell_type": "code",
   "execution_count": 137,
   "id": "eeefb132",
   "metadata": {},
   "outputs": [
    {
     "name": "stdout",
     "output_type": "stream",
     "text": [
      "INSERT INTO tb_cpu VALUES (17913311, 'AMD 라이젠5-5세대 7600X (라파엘) (정품)',502180,'AMD(소켓AM5)','5세대(Zen4)','5nm','6코어','12쓰레드','기본 클럭:4.7GHz','최대 클럭:5.3GHz','L3 캐시:32MB','TDP:105W','PCIe5.0','메모리 규격:DDR5','5200MHz','내장그래픽:탑재','AMD 라데온 그래픽','쿨러:미포함','','','','','')\n"
     ]
    }
   ],
   "source": [
    "conn = mysql.connect(host='localhost',\n",
    "                       user='root',\n",
    "                       password='parkingC103!',\n",
    "                       db='comssa',\n",
    "                       charset='utf8')\n",
    "\n",
    "\n",
    "with conn:\n",
    "    with conn.cursor() as cur:\n",
    "        for i in range(len(titles)):\n",
    "            sql = \"INSERT INTO tb_cpu VALUES (%s, %s,%s,%s)\"%(\\\n",
    "            seqs[i],\\\n",
    "            \"'%s'\"%titles[i]\\\n",
    "            ,prices[i].replace(',', ''),\\\n",
    "            \"'%s'\"%specs[i]\\\n",
    "            )\n",
    "            cur.execute(sql)\n",
    "        conn.commit()"
   ]
  },
  {
   "cell_type": "code",
   "execution_count": 11,
   "id": "7baf65a1",
   "metadata": {},
   "outputs": [
    {
     "name": "stderr",
     "output_type": "stream",
     "text": [
      "C:\\Users\\multicampus\\AppData\\Local\\Temp\\ipykernel_3300\\3826102534.py:5: DeprecationWarning: executable_path has been deprecated, please pass in a Service object\n",
      "  driver = wd.Chrome('chromedriver.exe')#,chrome_options=options)\n"
     ]
    }
   ],
   "source": [
    "options = wd.ChromeOptions()\n",
    "options.add_argument('headless')\n",
    "options.add_argument('window-size=1920x1080')\n",
    "options.add_argument(\"disable-gpu\")\n",
    "driver = wd.Chrome('chromedriver.exe')#,chrome_options=options)\n",
    "driver.get('https://www.cpubenchmark.net/cpu.php?cpu=AMD+Ryzen+9+7950X')\n",
    "time.sleep(1)\n",
    "html = driver.page_source\n",
    "soup = bs(html, 'html.parser')\n",
    "\n",
    "spec = soup.select('#main_content > div.wrapper > div.main-cmps > div:nth-child(2) > div.ov-scroll > div > div.desc-body > div.left-desc-cpu > p:nth-child(3)')"
   ]
  },
  {
   "cell_type": "code",
   "execution_count": 41,
   "id": "13779365",
   "metadata": {},
   "outputs": [],
   "source": [
    "spec = soup.select('#main_content div.left-desc-cpu > p:nth-child(4)')\n",
    "specp = soup.select('#main_content div.left-desc-cpu > p:nth-child(4) > strong')"
   ]
  },
  {
   "cell_type": "code",
   "execution_count": 60,
   "id": "9105c11c",
   "metadata": {},
   "outputs": [
    {
     "name": "stdout",
     "output_type": "stream",
     "text": [
      "Turbo Speed\n",
      "5.7\n",
      "{'Turbo Speed': 5.7}\n"
     ]
    }
   ],
   "source": [
    "clock=specp[0].text.strip()\n",
    "clockspeed=spec[0].text.strip()\n",
    "\n",
    "clockspeed=clockspeed.replace(clock,'')\n",
    "clockspeed=clockspeed.replace('GHz','').strip()\n",
    "clock=clock.strip(string.punctuation+' ')\n",
    "print(clock)\n",
    "print(clockspeed)\n",
    "testdict={}\n",
    "testdict[clock]=float(clockspeed)\n",
    "print(testdict)"
   ]
  },
  {
   "cell_type": "code",
   "execution_count": 43,
   "id": "c4e10083",
   "metadata": {},
   "outputs": [],
   "source": [
    "import string"
   ]
  },
  {
   "cell_type": "code",
   "execution_count": 50,
   "id": "c3008834",
   "metadata": {},
   "outputs": [],
   "source": [
    "puncA=\"abcdefghijklmnopqrstuvwxyzABCDEFGHIJKLMNOPQRSTUVWXYZ \""
   ]
  },
  {
   "cell_type": "code",
   "execution_count": 51,
   "id": "9763a2c4",
   "metadata": {},
   "outputs": [
    {
     "data": {
      "text/plain": [
       "'!\"#$%&\\'()*+,-./:;<=>?@[\\\\]^_`{|}~abcdefghijklmnopqrstuvwxyzABCDEFGHIJKLMNOPQRSTUVWXYZ '"
      ]
     },
     "execution_count": 51,
     "metadata": {},
     "output_type": "execute_result"
    }
   ],
   "source": [
    "string.punctuation+puncA"
   ]
  },
  {
   "cell_type": "code",
   "execution_count": 54,
   "id": "385daa32",
   "metadata": {},
   "outputs": [
    {
     "data": {
      "text/plain": [
       "'3.5'"
      ]
     },
     "execution_count": 54,
     "metadata": {},
     "output_type": "execute_result"
    }
   ],
   "source": [
    "test = 'asghsdhsad3.5 Ghz'\n",
    "test.strip(string.punctuation+puncA)"
   ]
  },
  {
   "cell_type": "code",
   "execution_count": null,
   "id": "4774846f",
   "metadata": {},
   "outputs": [],
   "source": [
    "pprint.pprint(cpu.find())\n",
    "# print(cpu.find()[0]['specsID'])\n",
    "cpuList = cpu.find()\n",
    "cpuIDList = []\n",
    "for i in cpuList:\n",
    "    cpuIDList.append(i['specsID'])\n",
    "#     print(i['specsID'])\n",
    "    \n",
    "cpuIDList=set(cpuIDList)\n",
    "# print(len(cpuIDList))\n",
    "print(cpuIDList)\n",
    "for i in cpuIDList:\n",
    "    print(i)"
   ]
  }
 ],
 "metadata": {
  "kernelspec": {
   "display_name": "Python 3 (ipykernel)",
   "language": "python",
   "name": "python3"
  },
  "language_info": {
   "codemirror_mode": {
    "name": "ipython",
    "version": 3
   },
   "file_extension": ".py",
   "mimetype": "text/x-python",
   "name": "python",
   "nbconvert_exporter": "python",
   "pygments_lexer": "ipython3",
   "version": "3.9.12"
  }
 },
 "nbformat": 4,
 "nbformat_minor": 5
}
